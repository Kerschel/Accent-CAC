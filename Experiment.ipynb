{
 "cells": [
  {
   "cell_type": "code",
   "execution_count": 1,
   "metadata": {},
   "outputs": [
    {
     "name": "stderr",
     "output_type": "stream",
     "text": [
      "Using TensorFlow backend.\n"
     ]
    }
   ],
   "source": [
    "from trainmodel import *"
   ]
  },
  {
   "cell_type": "code",
   "execution_count": 2,
   "metadata": {},
   "outputs": [],
   "source": [
    "file_name = \"short.csv\""
   ]
  },
  {
   "cell_type": "code",
   "execution_count": 3,
   "metadata": {},
   "outputs": [],
   "source": [
    "df = k.pd.read_csv(file_name,encoding='ISO-8859-1')\n",
    "df = df[df.duration >=2]\n",
    "filtered_df = getsplit.filter_df(df)\n",
    "# filtered_df.head()"
   ]
  },
  {
   "cell_type": "code",
   "execution_count": 4,
   "metadata": {},
   "outputs": [],
   "source": [
    "X_train, X_test, y_train, y_test = k.getsplit.split_people(filtered_df)"
   ]
  },
  {
   "cell_type": "code",
   "execution_count": 5,
   "metadata": {},
   "outputs": [],
   "source": [
    "train_count = k.Counter(y_train)\n",
    "test_count = k.Counter(y_test)\n",
    "acc_to_beat = test_count.most_common(1)[0][1] / float(np.sum(list(test_count.values())))"
   ]
  },
  {
   "cell_type": "code",
   "execution_count": 6,
   "metadata": {},
   "outputs": [
    {
     "name": "stdout",
     "output_type": "stream",
     "text": [
      "[2, 2, 3, 1, 3, 0, 1, 1, 2, 2, 3, 3, 2, 3, 3, 2, 3, 1, 2, 2, 2, 1, 0, 3, 1, 1, 0, 0, 1, 2, 2, 1, 0, 2, 2, 1, 2, 2, 1, 3, 0, 2, 0, 2, 1, 3, 3, 3, 3, 2, 1, 0, 1, 3, 0, 1, 3, 2, 1, 0, 0, 3, 1, 1, 1, 3, 3, 2, 2, 0, 2, 3, 2, 3, 0, 3, 2, 1, 1, 2, 1, 0, 1, 2, 1, 0, 0, 3, 0, 2, 3, 2, 1, 3, 0, 1, 2, 1, 1, 2, 0, 2, 0, 2, 0, 3, 2, 0, 3, 1, 0, 0, 3, 1, 1, 0, 0, 2, 3, 2, 0, 0, 2, 3, 2, 1, 0, 0, 3, 3, 3, 3, 1, 2, 2, 3, 1, 0, 3, 1, 2, 3, 0, 0, 3, 2, 2, 3, 2, 2, 2, 2, 1, 2, 1, 1, 3, 1, 2, 0, 1, 0, 1, 3, 2, 0, 1, 0, 1, 1, 2, 3, 2, 3, 0, 3, 2, 1, 0, 0, 3, 0, 1, 1, 3, 1, 3, 1, 3, 2, 3, 1, 3, 3, 1, 2, 2, 0, 0, 1, 2, 0, 0, 3, 3, 2, 0, 0, 2, 0, 3, 0, 1, 2, 3, 3, 1, 0, 2, 3, 0, 1, 0, 1, 2, 0, 2, 2, 2, 0, 1, 1, 0, 3, 0, 0, 3, 3, 1, 3, 3, 0, 3, 2, 2, 0, 1, 1, 1, 3, 2, 2, 2, 2, 1, 1, 1, 0, 0, 2, 1, 1, 1, 0, 3, 3, 3, 0, 0]\n",
      "(269, 4)\n"
     ]
    }
   ],
   "source": [
    "y_train = k.to_categorical(y_train)\n",
    "print(y_train.shape)"
   ]
  },
  {
   "cell_type": "code",
   "execution_count": 7,
   "metadata": {},
   "outputs": [
    {
     "name": "stdout",
     "output_type": "stream",
     "text": [
      "[1, 0, 3, 0, 3, 1, 0, 0, 3, 0, 1, 0, 3, 0, 3, 3, 0, 2, 2, 1, 0, 3, 3, 2, 1, 0, 1, 2, 1, 2, 2, 0, 0, 1, 1, 2, 1, 1, 3, 3, 0, 0, 2, 0, 3, 1, 2, 0]\n",
      "(48, 4)\n"
     ]
    }
   ],
   "source": [
    "y_test = k.to_categorical(y_test)\n",
    "print(y_test.shape)"
   ]
  },
  {
   "cell_type": "code",
   "execution_count": 8,
   "metadata": {},
   "outputs": [],
   "source": [
    "import multiprocess as mp"
   ]
  },
  {
   "cell_type": "code",
   "execution_count": 9,
   "metadata": {},
   "outputs": [
    {
     "name": "stdout",
     "output_type": "stream",
     "text": [
      "Loading Wav file\n"
     ]
    }
   ],
   "source": [
    "print(\"Loading Wav file\")\n",
    "pool = mp.Pool(processes=mp.cpu_count())\n",
    "X_train = pool.map(k.get_wav, X_train)\n",
    "X_test = pool.map(k.get_wav, X_test)"
   ]
  },
  {
   "cell_type": "code",
   "execution_count": 10,
   "metadata": {},
   "outputs": [
    {
     "name": "stdout",
     "output_type": "stream",
     "text": [
      "Converting to MFCC....\n"
     ]
    }
   ],
   "source": [
    "print('Converting to MFCC....')\n",
    "X_train = pool.map(k.to_mfcc, X_train)\n",
    "X_test = pool.map(k.to_mfcc, X_test)"
   ]
  },
  {
   "cell_type": "code",
   "execution_count": 11,
   "metadata": {},
   "outputs": [],
   "source": [
    "# Create segments from MFCCs\n",
    "X_train, y_train = k.make_segments(X_train, y_train)\n",
    "X_validation, y_validation = k.make_segments(X_test, y_test)"
   ]
  },
  {
   "cell_type": "code",
   "execution_count": 12,
   "metadata": {},
   "outputs": [],
   "source": [
    "X_train, _, y_train, _ = train_test_split(X_train, y_train, test_size=0.1)"
   ]
  },
  {
   "cell_type": "code",
   "execution_count": 18,
   "metadata": {},
   "outputs": [],
   "source": [
    "csvfile='output.csv'\n",
    "results = []\n",
    "acc = []"
   ]
  },
  {
   "cell_type": "code",
   "execution_count": 36,
   "metadata": {},
   "outputs": [],
   "source": [
    "def alter_model(X_train,y_train,X_validation,y_validation, batch_size=128):\n",
    "    rows = X_train[0].shape[0]\n",
    "    cols = X_train[0].shape[1]\n",
    "    val_rows = X_validation[0].shape[0]\n",
    "    val_cols = X_validation[0].shape[1]\n",
    "    num_classes = len(y_train[0])\n",
    "    # input image dimensions to feed into 2D ConvNet Input layer\n",
    "    input_shape = (rows, cols, 1)\n",
    "    X_train = X_train.reshape(X_train.shape[0], rows, cols, 1 )\n",
    "    X_validation = X_validation.reshape(X_validation.shape[0],val_rows,val_cols,1)\n",
    "    device_name = \"/device:GPU:1\"\n",
    "    # device_name = \"/cpu:0\"\n",
    "    \n",
    "    window_size = 3\n",
    "    EPOCHS = 20\n",
    "    dropout_rate = .05\n",
    "    \n",
    "    with tf.device(device_name):\n",
    "        print(\"Using: {0}\".format(device_name))\n",
    "        print('X_train shape:', X_train.shape)\n",
    "        print(X_train.shape[0], 'training samples')\n",
    "\n",
    "        model = Sequential()\n",
    "        # Layer  1\n",
    "        model.add(Conv2D(16, \n",
    "                        kernel_size=(window_size,window_size),\n",
    "                        activation='relu',\n",
    "                        \n",
    "                        input_shape=input_shape))\n",
    "        model.add(BatchNormalization())\n",
    "        model.add(MaxPooling2D(pool_size=(window_size - 1, window_size - 1)))\n",
    "        \n",
    "        # Layer 2\n",
    "        model.add(Conv2D(32,\n",
    "                        kernel_size=(window_size,window_size), \n",
    "                        activation='relu'))\n",
    "        model.add(BatchNormalization())\n",
    "        model.add(MaxPooling2D(pool_size=(window_size -1, window_size - 1)))\n",
    "        model.add(Dropout(dropout_rate))\n",
    "\n",
    "        \n",
    "        model.add(Flatten())\n",
    "        \n",
    "        # Layer 3\n",
    "        model.add(Dense(256, activation='relu'))\n",
    "        model.add(Dropout(dropout_rate))\n",
    "\n",
    "        # Layer 4\n",
    "        model.add(Dense(num_classes, activation='softmax'))\n",
    "        model.add(Dropout(dropout_rate))\n",
    "        \n",
    "        \n",
    "        # Evaluate the Layer\n",
    "        model.compile(loss='categorical_crossentropy',\n",
    "                      optimizer='adam',\n",
    "                      metrics=['accuracy'])\n",
    "\n",
    "        # Stops training if accuracy does not change at least 0.005 over 10 epochs\n",
    "        es = EarlyStopping(monitor='acc', \n",
    "                           min_delta=.005,\n",
    "                           patience=10, \n",
    "                           verbose=1, \n",
    "                           mode='auto')\n",
    "\n",
    "        # Creates log file for graphical interpretation using TensorBoard\n",
    "        tb = TensorBoard(log_dir='./logs', \n",
    "                         histogram_freq=0, \n",
    "                         batch_size=32, \n",
    "                         write_graph=True, \n",
    "                         write_grads=True,\n",
    "                         write_images=True, \n",
    "                         embeddings_freq=0, \n",
    "                         embeddings_layer_names=None,\n",
    "                         embeddings_metadata=None)\n",
    "\n",
    "        # Image shifting\n",
    "        datagen = ImageDataGenerator(width_shift_range=0.05)\n",
    "\n",
    "        # Fit model using ImageDataGenerator\n",
    "        csv_logger = CSVLogger('train-validation.csv', \n",
    "                               append=True, \n",
    "                               separator=',')\n",
    "        \n",
    "        model.fit_generator(datagen.flow(X_train, y_train, batch_size=batch_size),\n",
    "                            steps_per_epoch=len(X_train)/32, \n",
    "                            epochs=EPOCHS,\n",
    "                            callbacks=[\n",
    "                                es,\n",
    "                                tb,\n",
    "                                csv_logger\n",
    "                            ], \n",
    "                            validation_data=(X_validation,y_validation))\n",
    "\n",
    "        return (model)"
   ]
  },
  {
   "cell_type": "code",
   "execution_count": 37,
   "metadata": {},
   "outputs": [
    {
     "name": "stdout",
     "output_type": "stream",
     "text": [
      "Using: /device:GPU:1\n",
      "X_train shape: (15494, 13, 30, 1)\n",
      "15494 training samples\n",
      "Epoch 1/20\n",
      "485/484 [==============================] - 9s 18ms/step - loss: 1.3135 - acc: 0.4986 - val_loss: 1.2339 - val_acc: 0.4998\n",
      "Epoch 2/20\n",
      "485/484 [==============================] - 9s 19ms/step - loss: 0.8376 - acc: 0.6738 - val_loss: 1.5728 - val_acc: 0.4497\n",
      "Epoch 3/20\n",
      "485/484 [==============================] - 10s 20ms/step - loss: 0.6204 - acc: 0.7555 - val_loss: 1.8812 - val_acc: 0.4852\n",
      "Epoch 4/20\n",
      "485/484 [==============================] - 9s 19ms/step - loss: 0.5182 - acc: 0.7967 - val_loss: 1.7505 - val_acc: 0.5226\n",
      "Epoch 5/20\n",
      "485/484 [==============================] - 9s 19ms/step - loss: 0.4569 - acc: 0.8229 - val_loss: 1.9960 - val_acc: 0.5109\n",
      "Epoch 6/20\n",
      "485/484 [==============================] - 9s 19ms/step - loss: 0.4130 - acc: 0.8424 - val_loss: 2.2517 - val_acc: 0.5086\n",
      "Epoch 7/20\n",
      "485/484 [==============================] - 10s 20ms/step - loss: 0.3709 - acc: 0.8598 - val_loss: 1.9697 - val_acc: 0.5132\n",
      "Epoch 8/20\n",
      "485/484 [==============================] - 9s 19ms/step - loss: 0.3643 - acc: 0.8600 - val_loss: 2.1102 - val_acc: 0.4751\n",
      "Epoch 9/20\n",
      "485/484 [==============================] - 9s 20ms/step - loss: 0.3316 - acc: 0.8747 - val_loss: 2.4267 - val_acc: 0.5067\n",
      "Epoch 10/20\n",
      "485/484 [==============================] - 9s 19ms/step - loss: 0.3194 - acc: 0.8793 - val_loss: 2.1922 - val_acc: 0.4989\n",
      "Epoch 11/20\n",
      "485/484 [==============================] - 10s 20ms/step - loss: 0.3019 - acc: 0.8857 - val_loss: 1.9251 - val_acc: 0.5181\n",
      "Epoch 12/20\n",
      "485/484 [==============================] - 10s 20ms/step - loss: 0.2911 - acc: 0.8895 - val_loss: 1.9171 - val_acc: 0.5395\n",
      "Epoch 13/20\n",
      "485/484 [==============================] - 10s 20ms/step - loss: 0.2587 - acc: 0.9020 - val_loss: 2.4414 - val_acc: 0.5301\n",
      "Epoch 14/20\n",
      "485/484 [==============================] - 10s 20ms/step - loss: 0.2724 - acc: 0.8972 - val_loss: 2.2267 - val_acc: 0.5600\n",
      "Epoch 15/20\n",
      "485/484 [==============================] - 10s 20ms/step - loss: 0.2990 - acc: 0.8872 - val_loss: 1.9579 - val_acc: 0.5464\n",
      "Epoch 16/20\n",
      "485/484 [==============================] - 10s 20ms/step - loss: 0.2662 - acc: 0.8986 - val_loss: 2.1238 - val_acc: 0.5600\n",
      "Epoch 17/20\n",
      "485/484 [==============================] - 10s 21ms/step - loss: 0.2406 - acc: 0.9100 - val_loss: 2.2298 - val_acc: 0.5519\n",
      "Epoch 18/20\n",
      "485/484 [==============================] - 10s 20ms/step - loss: 0.2654 - acc: 0.9004 - val_loss: 2.1710 - val_acc: 0.6075\n",
      "Epoch 19/20\n",
      "485/484 [==============================] - 10s 20ms/step - loss: 0.2385 - acc: 0.9106 - val_loss: 2.6528 - val_acc: 0.5008\n",
      "Epoch 20/20\n",
      "485/484 [==============================] - 10s 20ms/step - loss: 0.2615 - acc: 0.9044 - val_loss: 2.1159 - val_acc: 0.56043s - loss: 0. - ETA: 2 - ETA: 0s - loss: 0.2636 - acc\n",
      "Training samples: Counter({'Barbados': 71, 'Tobago': 68, 'St. Lucia': 66, 'Trinidad': 64})\n",
      "Testing samples: Counter({'Trinidad': 16, 'Tobago': 12, 'St. Lucia': 11, 'Barbados': 9})\n",
      "Accuracy to beat: 0.3333333333333333\n",
      "Confusion matrix of total samples:\n",
      " [16 12  9 11]\n",
      "Confusion matrix:\n",
      " [[7 2 5 2]\n",
      " [1 9 0 2]\n",
      " [0 2 4 3]\n",
      " [2 2 0 7]]\n",
      "Accuracy: 0.5625\n",
      "_________________________________________________________________\n",
      "Layer (type)                 Output Shape              Param #   \n",
      "=================================================================\n",
      "conv2d_23 (Conv2D)           (None, 11, 28, 16)        160       \n",
      "_________________________________________________________________\n",
      "batch_normalization_23 (Batc (None, 11, 28, 16)        64        \n",
      "_________________________________________________________________\n",
      "max_pooling2d_23 (MaxPooling (None, 5, 14, 16)         0         \n",
      "_________________________________________________________________\n",
      "conv2d_24 (Conv2D)           (None, 3, 12, 32)         4640      \n",
      "_________________________________________________________________\n",
      "batch_normalization_24 (Batc (None, 3, 12, 32)         128       \n",
      "_________________________________________________________________\n",
      "max_pooling2d_24 (MaxPooling (None, 1, 6, 32)          0         \n",
      "_________________________________________________________________\n",
      "flatten_11 (Flatten)         (None, 192)               0         \n",
      "_________________________________________________________________\n",
      "dropout_21 (Dropout)         (None, 192)               0         \n",
      "_________________________________________________________________\n",
      "dense_22 (Dense)             (None, 4)                 772       \n",
      "=================================================================\n",
      "Total params: 5,764\n",
      "Trainable params: 5,668\n",
      "Non-trainable params: 96\n",
      "_________________________________________________________________\n"
     ]
    }
   ],
   "source": [
    "for i in range (0,1):\n",
    "    model = alter_model(np.array(X_train), \n",
    "                        np.array(y_train), \n",
    "                        np.array(X_validation),\n",
    "                        np.array(y_validation))\n",
    "    y_predicted = accuracy.predict_class_all(k.create_segmented_mfccs(X_test), model)\n",
    "    print('Training samples:', train_count)\n",
    "    print('Testing samples:', test_count)\n",
    "    print('Accuracy to beat:', acc_to_beat)\n",
    "    print('Confusion matrix of total samples:\\n', np.sum(accuracy.confusion_matrix(y_predicted, y_test),axis=1))\n",
    "    print('Confusion matrix:\\n',accuracy.confusion_matrix(y_predicted, y_test))\n",
    "    print('Accuracy:', accuracy.get_accuracy(y_predicted,y_test))\n",
    "\n",
    "    results.append(accuracy.confusion_matrix(y_predicted, y_test))\n",
    "    acc.append(accuracy.get_accuracy(y_predicted,y_test))\n",
    "    with open(csvfile, 'a') as csvFile:\n",
    "        writer = csv.writer(csvFile)\n",
    "        writer.writerow([i,accuracy.get_accuracy(y_predicted,y_test)])\n",
    "        \n",
    "    model.summary()\n"
   ]
  },
  {
   "cell_type": "code",
   "execution_count": null,
   "metadata": {},
   "outputs": [],
   "source": []
  }
 ],
 "metadata": {
  "kernelspec": {
   "display_name": "Python 3",
   "language": "python",
   "name": "python3"
  },
  "language_info": {
   "codemirror_mode": {
    "name": "ipython",
    "version": 3
   },
   "file_extension": ".py",
   "mimetype": "text/x-python",
   "name": "python",
   "nbconvert_exporter": "python",
   "pygments_lexer": "ipython3",
   "version": "3.6.8"
  }
 },
 "nbformat": 4,
 "nbformat_minor": 2
}
